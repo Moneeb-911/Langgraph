{
 "cells": [
  {
   "cell_type": "code",
   "execution_count": 3,
   "id": "2044cede",
   "metadata": {},
   "outputs": [],
   "source": [
    "from typing import Dict, TypedDict,List\n",
    "from langgraph.graph import StateGraph"
   ]
  },
  {
   "cell_type": "code",
   "execution_count": 15,
   "id": "c415e62b",
   "metadata": {},
   "outputs": [],
   "source": [
    "class stateAgent(TypedDict):\n",
    "    marks:List[int]\n",
    "    name:str\n",
    "    res:str\n",
    "\n",
    "def processing_node(state:stateAgent)->stateAgent:\n",
    "    '''processes the list and returns the result'''\n",
    "    state['res']=f'hey {state['name']} your marks are {sum(state['marks'])}'\n",
    "    return state"
   ]
  },
  {
   "cell_type": "code",
   "execution_count": 16,
   "id": "26fa5504",
   "metadata": {},
   "outputs": [],
   "source": [
    "graph=StateGraph(stateAgent)\n",
    "graph.add_node('processing',processing_node)\n",
    "graph.set_entry_point('processing')\n",
    "graph.set_finish_point('processing')\n",
    "app=graph.compile()"
   ]
  },
  {
   "cell_type": "code",
   "execution_count": 17,
   "id": "c45e2f08",
   "metadata": {},
   "outputs": [
    {
     "data": {
      "text/plain": [
       "'hey zain your marks are 26'"
      ]
     },
     "execution_count": 17,
     "metadata": {},
     "output_type": "execute_result"
    }
   ],
   "source": [
    "res1=app.invoke({'name':'zain','marks':[2,5,2,9,8]})\n",
    "res1['res']"
   ]
  },
  {
   "cell_type": "code",
   "execution_count": null,
   "id": "eeec7641",
   "metadata": {},
   "outputs": [],
   "source": []
  }
 ],
 "metadata": {
  "kernelspec": {
   "display_name": "Python 3",
   "language": "python",
   "name": "python3"
  },
  "language_info": {
   "codemirror_mode": {
    "name": "ipython",
    "version": 3
   },
   "file_extension": ".py",
   "mimetype": "text/x-python",
   "name": "python",
   "nbconvert_exporter": "python",
   "pygments_lexer": "ipython3",
   "version": "3.12.9"
  }
 },
 "nbformat": 4,
 "nbformat_minor": 5
}
